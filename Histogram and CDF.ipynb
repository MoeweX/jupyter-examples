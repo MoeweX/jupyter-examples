{
 "cells": [
  {
   "cell_type": "code",
   "execution_count": 6,
   "metadata": {},
   "outputs": [
    {
     "name": "stdout",
     "output_type": "stream",
     "text": [
      "Reading from /Users/jonathanhasenburg/git/jupyter-examples/Data/Histogram Data\n"
     ]
    }
   ],
   "source": [
    "# Imports\n",
    "\n",
    "import os\n",
    "import pandas as pd\n",
    "import matplotlib.pyplot as plt\n",
    "import numpy as np\n",
    "from matplotlib.lines import Line2D\n",
    "\n",
    "# Path\n",
    "dataDir = os.path.abspath(\"./Data/Histogram Data\")\n",
    "print(\"Reading from \" + dataDir)"
   ]
  },
  {
   "cell_type": "code",
   "execution_count": 8,
   "metadata": {},
   "outputs": [
    {
     "name": "stdout",
     "output_type": "stream",
     "text": [
      "MockFog 47.5 exceeds 40, skipping it\n",
      "MockFog 48.9 exceeds 40, skipping it\n",
      "MockFog 58.8 exceeds 40, skipping it\n",
      "MockFog 42.3 exceeds 40, skipping it\n",
      "MockFog 54.2 exceeds 40, skipping it\n",
      "MockFog 150.0 exceeds 40, skipping it\n",
      "MockFog 65.1 exceeds 40, skipping it\n",
      "MockFog 152.0 exceeds 40, skipping it\n",
      "MockFog 52.5 exceeds 40, skipping it\n",
      "Entry at index 5999 throws value error, assuming all data is parsed\n"
     ]
    }
   ],
   "source": [
    "# Read in Data from CSV\n",
    "\n",
    "# Format\n",
    "# 0;mockfog;physical\n",
    "# 1;16,4;16,538\n",
    "\n",
    "data = []\n",
    "header = [\"ping\", \"mockfog\", \"physical\"]\n",
    "with open(dataDir + \"/pings.csv\", \"r\") as f:\n",
    "    for i, line in enumerate(f):\n",
    "        split = line.split(\";\")\n",
    "        if i > 0:\n",
    "            try:\n",
    "                ping = int(split[0])\n",
    "                mockfog = float(split[1].replace(\",\", \".\").replace(\"\\n\", \"\"))\n",
    "                physical = float(\"{0:.1f}\".format(float(split[2].replace(\",\", \".\"))))\n",
    "                \n",
    "                if mockfog > 40:\n",
    "                    print(\"MockFog {0!s} exceeds 40, skipping it\".format(mockfog))\n",
    "                    mockfog = None\n",
    "                \n",
    "                if physical > 40:\n",
    "                    print(\"Physical {0!s} exceeds 40, skipping it\".format(mockfog))\n",
    "                    physical = None\n",
    "                    \n",
    "                data.append([ping, mockfog, physical])\n",
    "            except ValueError:\n",
    "                print(\"Entry at index {0!s} throws value error, assuming all data is parsed\".format(i))\n",
    "                break\n",
    "\n",
    "df = pd.DataFrame(data,columns=header)"
   ]
  },
  {
   "cell_type": "code",
   "execution_count": 13,
   "metadata": {},
   "outputs": [
    {
     "data": {
      "image/png": "[encoded data removed]",
      "text/plain": [
       "<Figure size 432x288 with 1 Axes>"
      ]
     },
     "metadata": {
      "needs_background": "light"
     },
     "output_type": "display_data"
    }
   ],
   "source": [
    "# Plot CDF\n",
    "\n",
    "fig, ax = plt.subplots()\n",
    "df.hist(bins=1000, label=\"MockFog\", column=[\"mockfog\"], cumulative=True, density=True, histtype='step', ax=ax, edgecolor='#AAAAAA', linewidth=2)\n",
    "df.hist(bins=1000, label=\"Physical\", column=[\"physical\"], cumulative=True, density=True, histtype='step', ax=ax, edgecolor='#000000', linewidth=2)\n",
    "\n",
    "# update x\n",
    "ax.set_xlabel(\"Latency\")\n",
    "\n",
    "# update y\n",
    "ax.set_ylabel(\"Cumulative Probability\")\n",
    "\n",
    "# update legend & set other font\n",
    "markers = [Line2D([0], [0], color=\"#AAAAAA\", lw=4),\n",
    "                Line2D([0], [0], color=\"#000000\", lw=4)]\n",
    "ax.legend(markers, [\"MockFog\", \"Physical\"], loc=\"lower right\", title=\"Latency\", prop={\"family\": \"Palatino\"})\n",
    "\n",
    "plt.xlim(14,20)\n",
    "# set font\n",
    "plt.rcParams['font.family'] = 'Palatino'\n",
    "ax.set_title(\"\")\n",
    "fig.tight_layout()\n",
    "fig.savefig(dataDir + \"/cdf.pdf\")"
   ]
  }
 ],
 "metadata": {
  "kernelspec": {
   "display_name": "Python 3",
   "language": "python",
   "name": "python3"
  },
  "language_info": {
   "codemirror_mode": {
    "name": "ipython",
    "version": 3
   },
   "file_extension": ".py",
   "mimetype": "text/x-python",
   "name": "python",
   "nbconvert_exporter": "python",
   "pygments_lexer": "ipython3",
   "version": "3.7.0"
  }
 },
 "nbformat": 4,
 "nbformat_minor": 2
}
